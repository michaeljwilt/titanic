{
 "cells": [
  {
   "cell_type": "markdown",
   "id": "9881eb2a-96ca-444e-bf71-e035ffdfa441",
   "metadata": {},
   "source": [
    "# Decision Trees and Random Forests Project\n",
    "\n",
    "### **Part 1:** Create a decision tree model of the Titanic dataset\n",
    "\n",
    "### **Part 2:** Create a random forest model of the Titanic dataset that predicts survival\n",
    "\n",
    "# ----------------------------------------------------------------------"
   ]
  },
  {
   "cell_type": "markdown",
   "id": "fb9baf29-084d-40d6-8f47-a921e5e3ac40",
   "metadata": {},
   "source": [
    "## **Part 1:** Create a decision tree model of the Titanic dataset to predict survival\n",
    "**Tasks:**\n",
    "1. Import Packages\n",
    "2. Load in Data\n",
    "3. Data Wrangling\n",
    "4. Train Test Split\n",
    "5. Create Initial Decision Tree\n",
    "6. Assess the Model"
   ]
  },
  {
   "cell_type": "code",
   "execution_count": 1,
   "id": "6d7ff73d-b817-40ba-a5b3-5b96e3c9bb4c",
   "metadata": {},
   "outputs": [],
   "source": [
    "#Import Packages\n",
    "import pandas as pd\n",
    "import numpy as np\n",
    "import matplotlib.pyplot as plt\n",
    "import seaborn as sns\n",
    "%matplotlib inline\n",
    "from sklearn.model_selection import train_test_split\n",
    "from sklearn.tree import DecisionTreeClassifier\n",
    "from sklearn.metrics import classification_report, confusion_matrix, accuracy_score\n",
    "from sklearn.ensemble import RandomForestClassifier\n",
    "from sklearn.model_selection import RandomizedSearchCV"
   ]
  },
  {
   "cell_type": "code",
   "execution_count": 2,
   "id": "ac6feb92-842d-4506-8218-c7dcbba99ff1",
   "metadata": {},
   "outputs": [
    {
     "data": {
      "text/html": [
       "<div>\n",
       "<style scoped>\n",
       "    .dataframe tbody tr th:only-of-type {\n",
       "        vertical-align: middle;\n",
       "    }\n",
       "\n",
       "    .dataframe tbody tr th {\n",
       "        vertical-align: top;\n",
       "    }\n",
       "\n",
       "    .dataframe thead th {\n",
       "        text-align: right;\n",
       "    }\n",
       "</style>\n",
       "<table border=\"1\" class=\"dataframe\">\n",
       "  <thead>\n",
       "    <tr style=\"text-align: right;\">\n",
       "      <th></th>\n",
       "      <th>survived</th>\n",
       "      <th>pclass</th>\n",
       "      <th>sex</th>\n",
       "      <th>age</th>\n",
       "      <th>sibsp</th>\n",
       "      <th>parch</th>\n",
       "      <th>fare</th>\n",
       "      <th>embarked</th>\n",
       "      <th>class</th>\n",
       "      <th>who</th>\n",
       "      <th>adult_male</th>\n",
       "      <th>deck</th>\n",
       "      <th>embark_town</th>\n",
       "      <th>alive</th>\n",
       "      <th>alone</th>\n",
       "    </tr>\n",
       "  </thead>\n",
       "  <tbody>\n",
       "    <tr>\n",
       "      <th>0</th>\n",
       "      <td>0</td>\n",
       "      <td>3</td>\n",
       "      <td>male</td>\n",
       "      <td>22.0</td>\n",
       "      <td>1</td>\n",
       "      <td>0</td>\n",
       "      <td>7.2500</td>\n",
       "      <td>S</td>\n",
       "      <td>Third</td>\n",
       "      <td>man</td>\n",
       "      <td>True</td>\n",
       "      <td>NaN</td>\n",
       "      <td>Southampton</td>\n",
       "      <td>no</td>\n",
       "      <td>False</td>\n",
       "    </tr>\n",
       "    <tr>\n",
       "      <th>1</th>\n",
       "      <td>1</td>\n",
       "      <td>1</td>\n",
       "      <td>female</td>\n",
       "      <td>38.0</td>\n",
       "      <td>1</td>\n",
       "      <td>0</td>\n",
       "      <td>71.2833</td>\n",
       "      <td>C</td>\n",
       "      <td>First</td>\n",
       "      <td>woman</td>\n",
       "      <td>False</td>\n",
       "      <td>C</td>\n",
       "      <td>Cherbourg</td>\n",
       "      <td>yes</td>\n",
       "      <td>False</td>\n",
       "    </tr>\n",
       "    <tr>\n",
       "      <th>2</th>\n",
       "      <td>1</td>\n",
       "      <td>3</td>\n",
       "      <td>female</td>\n",
       "      <td>26.0</td>\n",
       "      <td>0</td>\n",
       "      <td>0</td>\n",
       "      <td>7.9250</td>\n",
       "      <td>S</td>\n",
       "      <td>Third</td>\n",
       "      <td>woman</td>\n",
       "      <td>False</td>\n",
       "      <td>NaN</td>\n",
       "      <td>Southampton</td>\n",
       "      <td>yes</td>\n",
       "      <td>True</td>\n",
       "    </tr>\n",
       "    <tr>\n",
       "      <th>3</th>\n",
       "      <td>1</td>\n",
       "      <td>1</td>\n",
       "      <td>female</td>\n",
       "      <td>35.0</td>\n",
       "      <td>1</td>\n",
       "      <td>0</td>\n",
       "      <td>53.1000</td>\n",
       "      <td>S</td>\n",
       "      <td>First</td>\n",
       "      <td>woman</td>\n",
       "      <td>False</td>\n",
       "      <td>C</td>\n",
       "      <td>Southampton</td>\n",
       "      <td>yes</td>\n",
       "      <td>False</td>\n",
       "    </tr>\n",
       "    <tr>\n",
       "      <th>4</th>\n",
       "      <td>0</td>\n",
       "      <td>3</td>\n",
       "      <td>male</td>\n",
       "      <td>35.0</td>\n",
       "      <td>0</td>\n",
       "      <td>0</td>\n",
       "      <td>8.0500</td>\n",
       "      <td>S</td>\n",
       "      <td>Third</td>\n",
       "      <td>man</td>\n",
       "      <td>True</td>\n",
       "      <td>NaN</td>\n",
       "      <td>Southampton</td>\n",
       "      <td>no</td>\n",
       "      <td>True</td>\n",
       "    </tr>\n",
       "  </tbody>\n",
       "</table>\n",
       "</div>"
      ],
      "text/plain": [
       "   survived  pclass     sex   age  sibsp  parch     fare embarked  class  \\\n",
       "0         0       3    male  22.0      1      0   7.2500        S  Third   \n",
       "1         1       1  female  38.0      1      0  71.2833        C  First   \n",
       "2         1       3  female  26.0      0      0   7.9250        S  Third   \n",
       "3         1       1  female  35.0      1      0  53.1000        S  First   \n",
       "4         0       3    male  35.0      0      0   8.0500        S  Third   \n",
       "\n",
       "     who  adult_male deck  embark_town alive  alone  \n",
       "0    man        True  NaN  Southampton    no  False  \n",
       "1  woman       False    C    Cherbourg   yes  False  \n",
       "2  woman       False  NaN  Southampton   yes   True  \n",
       "3  woman       False    C  Southampton   yes  False  \n",
       "4    man        True  NaN  Southampton    no   True  "
      ]
     },
     "execution_count": 2,
     "metadata": {},
     "output_type": "execute_result"
    }
   ],
   "source": [
    "#Load in Data\n",
    "Titanic = sns.load_dataset('titanic')\n",
    "Titanic.head()"
   ]
  },
  {
   "cell_type": "code",
   "execution_count": 3,
   "id": "cd291cc4-0d35-4ad3-a459-688f7b315f51",
   "metadata": {},
   "outputs": [
    {
     "data": {
      "text/html": [
       "<div>\n",
       "<style scoped>\n",
       "    .dataframe tbody tr th:only-of-type {\n",
       "        vertical-align: middle;\n",
       "    }\n",
       "\n",
       "    .dataframe tbody tr th {\n",
       "        vertical-align: top;\n",
       "    }\n",
       "\n",
       "    .dataframe thead th {\n",
       "        text-align: right;\n",
       "    }\n",
       "</style>\n",
       "<table border=\"1\" class=\"dataframe\">\n",
       "  <thead>\n",
       "    <tr style=\"text-align: right;\">\n",
       "      <th></th>\n",
       "      <th>survived</th>\n",
       "      <th>pclass</th>\n",
       "      <th>sex</th>\n",
       "      <th>age</th>\n",
       "      <th>fare</th>\n",
       "      <th>embarked</th>\n",
       "      <th>deck</th>\n",
       "      <th>alone</th>\n",
       "    </tr>\n",
       "  </thead>\n",
       "  <tbody>\n",
       "    <tr>\n",
       "      <th>0</th>\n",
       "      <td>0</td>\n",
       "      <td>3</td>\n",
       "      <td>male</td>\n",
       "      <td>22.0</td>\n",
       "      <td>7.2500</td>\n",
       "      <td>S</td>\n",
       "      <td>NaN</td>\n",
       "      <td>False</td>\n",
       "    </tr>\n",
       "    <tr>\n",
       "      <th>1</th>\n",
       "      <td>1</td>\n",
       "      <td>1</td>\n",
       "      <td>female</td>\n",
       "      <td>38.0</td>\n",
       "      <td>71.2833</td>\n",
       "      <td>C</td>\n",
       "      <td>C</td>\n",
       "      <td>False</td>\n",
       "    </tr>\n",
       "    <tr>\n",
       "      <th>2</th>\n",
       "      <td>1</td>\n",
       "      <td>3</td>\n",
       "      <td>female</td>\n",
       "      <td>26.0</td>\n",
       "      <td>7.9250</td>\n",
       "      <td>S</td>\n",
       "      <td>NaN</td>\n",
       "      <td>True</td>\n",
       "    </tr>\n",
       "    <tr>\n",
       "      <th>3</th>\n",
       "      <td>1</td>\n",
       "      <td>1</td>\n",
       "      <td>female</td>\n",
       "      <td>35.0</td>\n",
       "      <td>53.1000</td>\n",
       "      <td>S</td>\n",
       "      <td>C</td>\n",
       "      <td>False</td>\n",
       "    </tr>\n",
       "    <tr>\n",
       "      <th>4</th>\n",
       "      <td>0</td>\n",
       "      <td>3</td>\n",
       "      <td>male</td>\n",
       "      <td>35.0</td>\n",
       "      <td>8.0500</td>\n",
       "      <td>S</td>\n",
       "      <td>NaN</td>\n",
       "      <td>True</td>\n",
       "    </tr>\n",
       "  </tbody>\n",
       "</table>\n",
       "</div>"
      ],
      "text/plain": [
       "   survived  pclass     sex   age     fare embarked deck  alone\n",
       "0         0       3    male  22.0   7.2500        S  NaN  False\n",
       "1         1       1  female  38.0  71.2833        C    C  False\n",
       "2         1       3  female  26.0   7.9250        S  NaN   True\n",
       "3         1       1  female  35.0  53.1000        S    C  False\n",
       "4         0       3    male  35.0   8.0500        S  NaN   True"
      ]
     },
     "execution_count": 3,
     "metadata": {},
     "output_type": "execute_result"
    }
   ],
   "source": [
    "#Data Wrangling\n",
    "\n",
    "titanicTrim = Titanic.drop([\"sibsp\", \"parch\", \"class\", \"who\", \"adult_male\", \"embark_town\", \"alive\"], axis = 1)\n",
    "titanicTrim.head()"
   ]
  },
  {
   "cell_type": "code",
   "execution_count": 4,
   "id": "b3d980fc-faa1-4eaf-89c9-8b99307b79c8",
   "metadata": {},
   "outputs": [],
   "source": [
    "titanicTrim.dropna(inplace=True)"
   ]
  },
  {
   "cell_type": "code",
   "execution_count": 5,
   "id": "bc6eeb3b-4beb-43d0-b129-a040ee741733",
   "metadata": {},
   "outputs": [
    {
     "name": "stdout",
     "output_type": "stream",
     "text": [
      "<class 'pandas.core.frame.DataFrame'>\n",
      "Int64Index: 182 entries, 1 to 889\n",
      "Data columns (total 8 columns):\n",
      " #   Column    Non-Null Count  Dtype   \n",
      "---  ------    --------------  -----   \n",
      " 0   survived  182 non-null    int64   \n",
      " 1   pclass    182 non-null    int64   \n",
      " 2   sex       182 non-null    object  \n",
      " 3   age       182 non-null    float64 \n",
      " 4   fare      182 non-null    float64 \n",
      " 5   embarked  182 non-null    object  \n",
      " 6   deck      182 non-null    category\n",
      " 7   alone     182 non-null    bool    \n",
      "dtypes: bool(1), category(1), float64(2), int64(2), object(2)\n",
      "memory usage: 10.7+ KB\n"
     ]
    }
   ],
   "source": [
    "titanicTrim.info()"
   ]
  },
  {
   "cell_type": "code",
   "execution_count": 6,
   "id": "19638f8b-58e1-4add-91f3-a3f5a5b82756",
   "metadata": {},
   "outputs": [
    {
     "data": {
      "text/html": [
       "<div>\n",
       "<style scoped>\n",
       "    .dataframe tbody tr th:only-of-type {\n",
       "        vertical-align: middle;\n",
       "    }\n",
       "\n",
       "    .dataframe tbody tr th {\n",
       "        vertical-align: top;\n",
       "    }\n",
       "\n",
       "    .dataframe thead th {\n",
       "        text-align: right;\n",
       "    }\n",
       "</style>\n",
       "<table border=\"1\" class=\"dataframe\">\n",
       "  <thead>\n",
       "    <tr style=\"text-align: right;\">\n",
       "      <th></th>\n",
       "      <th>survived</th>\n",
       "      <th>pclass</th>\n",
       "      <th>sex</th>\n",
       "      <th>age</th>\n",
       "      <th>fare</th>\n",
       "      <th>embarked</th>\n",
       "      <th>deck</th>\n",
       "      <th>alone</th>\n",
       "      <th>sexR</th>\n",
       "    </tr>\n",
       "  </thead>\n",
       "  <tbody>\n",
       "    <tr>\n",
       "      <th>1</th>\n",
       "      <td>1</td>\n",
       "      <td>1</td>\n",
       "      <td>female</td>\n",
       "      <td>38.0</td>\n",
       "      <td>71.2833</td>\n",
       "      <td>C</td>\n",
       "      <td>C</td>\n",
       "      <td>False</td>\n",
       "      <td>1</td>\n",
       "    </tr>\n",
       "    <tr>\n",
       "      <th>3</th>\n",
       "      <td>1</td>\n",
       "      <td>1</td>\n",
       "      <td>female</td>\n",
       "      <td>35.0</td>\n",
       "      <td>53.1000</td>\n",
       "      <td>S</td>\n",
       "      <td>C</td>\n",
       "      <td>False</td>\n",
       "      <td>1</td>\n",
       "    </tr>\n",
       "    <tr>\n",
       "      <th>6</th>\n",
       "      <td>0</td>\n",
       "      <td>1</td>\n",
       "      <td>male</td>\n",
       "      <td>54.0</td>\n",
       "      <td>51.8625</td>\n",
       "      <td>S</td>\n",
       "      <td>E</td>\n",
       "      <td>True</td>\n",
       "      <td>0</td>\n",
       "    </tr>\n",
       "    <tr>\n",
       "      <th>10</th>\n",
       "      <td>1</td>\n",
       "      <td>3</td>\n",
       "      <td>female</td>\n",
       "      <td>4.0</td>\n",
       "      <td>16.7000</td>\n",
       "      <td>S</td>\n",
       "      <td>G</td>\n",
       "      <td>False</td>\n",
       "      <td>1</td>\n",
       "    </tr>\n",
       "    <tr>\n",
       "      <th>11</th>\n",
       "      <td>1</td>\n",
       "      <td>1</td>\n",
       "      <td>female</td>\n",
       "      <td>58.0</td>\n",
       "      <td>26.5500</td>\n",
       "      <td>S</td>\n",
       "      <td>C</td>\n",
       "      <td>True</td>\n",
       "      <td>1</td>\n",
       "    </tr>\n",
       "  </tbody>\n",
       "</table>\n",
       "</div>"
      ],
      "text/plain": [
       "    survived  pclass     sex   age     fare embarked deck  alone  sexR\n",
       "1          1       1  female  38.0  71.2833        C    C  False     1\n",
       "3          1       1  female  35.0  53.1000        S    C  False     1\n",
       "6          0       1    male  54.0  51.8625        S    E   True     0\n",
       "10         1       3  female   4.0  16.7000        S    G  False     1\n",
       "11         1       1  female  58.0  26.5500        S    C   True     1"
      ]
     },
     "execution_count": 6,
     "metadata": {},
     "output_type": "execute_result"
    }
   ],
   "source": [
    "def sexRecode (series):\n",
    "    if series == \"male\":\n",
    "        return 0\n",
    "    if series == \"female\":\n",
    "        return 1\n",
    "    \n",
    "titanicTrim[\"sexR\"] = titanicTrim[\"sex\"].apply(sexRecode)\n",
    "titanicTrim.head()"
   ]
  },
  {
   "cell_type": "code",
   "execution_count": 7,
   "id": "af9a6f84-f7f9-47db-a394-07043bc57eca",
   "metadata": {},
   "outputs": [
    {
     "data": {
      "text/plain": [
       "embarked\n",
       "S    115\n",
       "C     65\n",
       "Q      2\n",
       "dtype: int64"
      ]
     },
     "execution_count": 7,
     "metadata": {},
     "output_type": "execute_result"
    }
   ],
   "source": [
    "##Determine values of \"embarked\"\n",
    "titanicTrim.value_counts(\"embarked\")"
   ]
  },
  {
   "cell_type": "code",
   "execution_count": 8,
   "id": "dd16a80f-2de6-42b0-babd-1ca772de94fb",
   "metadata": {},
   "outputs": [
    {
     "data": {
      "text/html": [
       "<div>\n",
       "<style scoped>\n",
       "    .dataframe tbody tr th:only-of-type {\n",
       "        vertical-align: middle;\n",
       "    }\n",
       "\n",
       "    .dataframe tbody tr th {\n",
       "        vertical-align: top;\n",
       "    }\n",
       "\n",
       "    .dataframe thead th {\n",
       "        text-align: right;\n",
       "    }\n",
       "</style>\n",
       "<table border=\"1\" class=\"dataframe\">\n",
       "  <thead>\n",
       "    <tr style=\"text-align: right;\">\n",
       "      <th></th>\n",
       "      <th>survived</th>\n",
       "      <th>pclass</th>\n",
       "      <th>sex</th>\n",
       "      <th>age</th>\n",
       "      <th>fare</th>\n",
       "      <th>embarked</th>\n",
       "      <th>deck</th>\n",
       "      <th>alone</th>\n",
       "      <th>sexR</th>\n",
       "      <th>embarkedR</th>\n",
       "    </tr>\n",
       "  </thead>\n",
       "  <tbody>\n",
       "    <tr>\n",
       "      <th>1</th>\n",
       "      <td>1</td>\n",
       "      <td>1</td>\n",
       "      <td>female</td>\n",
       "      <td>38.0</td>\n",
       "      <td>71.2833</td>\n",
       "      <td>C</td>\n",
       "      <td>C</td>\n",
       "      <td>False</td>\n",
       "      <td>1</td>\n",
       "      <td>0</td>\n",
       "    </tr>\n",
       "    <tr>\n",
       "      <th>3</th>\n",
       "      <td>1</td>\n",
       "      <td>1</td>\n",
       "      <td>female</td>\n",
       "      <td>35.0</td>\n",
       "      <td>53.1000</td>\n",
       "      <td>S</td>\n",
       "      <td>C</td>\n",
       "      <td>False</td>\n",
       "      <td>1</td>\n",
       "      <td>1</td>\n",
       "    </tr>\n",
       "    <tr>\n",
       "      <th>6</th>\n",
       "      <td>0</td>\n",
       "      <td>1</td>\n",
       "      <td>male</td>\n",
       "      <td>54.0</td>\n",
       "      <td>51.8625</td>\n",
       "      <td>S</td>\n",
       "      <td>E</td>\n",
       "      <td>True</td>\n",
       "      <td>0</td>\n",
       "      <td>1</td>\n",
       "    </tr>\n",
       "    <tr>\n",
       "      <th>10</th>\n",
       "      <td>1</td>\n",
       "      <td>3</td>\n",
       "      <td>female</td>\n",
       "      <td>4.0</td>\n",
       "      <td>16.7000</td>\n",
       "      <td>S</td>\n",
       "      <td>G</td>\n",
       "      <td>False</td>\n",
       "      <td>1</td>\n",
       "      <td>1</td>\n",
       "    </tr>\n",
       "    <tr>\n",
       "      <th>11</th>\n",
       "      <td>1</td>\n",
       "      <td>1</td>\n",
       "      <td>female</td>\n",
       "      <td>58.0</td>\n",
       "      <td>26.5500</td>\n",
       "      <td>S</td>\n",
       "      <td>C</td>\n",
       "      <td>True</td>\n",
       "      <td>1</td>\n",
       "      <td>1</td>\n",
       "    </tr>\n",
       "  </tbody>\n",
       "</table>\n",
       "</div>"
      ],
      "text/plain": [
       "    survived  pclass     sex   age     fare embarked deck  alone  sexR  \\\n",
       "1          1       1  female  38.0  71.2833        C    C  False     1   \n",
       "3          1       1  female  35.0  53.1000        S    C  False     1   \n",
       "6          0       1    male  54.0  51.8625        S    E   True     0   \n",
       "10         1       3  female   4.0  16.7000        S    G  False     1   \n",
       "11         1       1  female  58.0  26.5500        S    C   True     1   \n",
       "\n",
       "    embarkedR  \n",
       "1           0  \n",
       "3           1  \n",
       "6           1  \n",
       "10          1  \n",
       "11          1  "
      ]
     },
     "execution_count": 8,
     "metadata": {},
     "output_type": "execute_result"
    }
   ],
   "source": [
    "def embarkedRecode (series):\n",
    "    if series == \"C\":\n",
    "        return 0\n",
    "    if series == \"S\":\n",
    "        return 1\n",
    "    if series == \"Q\":\n",
    "        return 2\n",
    "\n",
    "titanicTrim[\"embarkedR\"] = titanicTrim[\"embarked\"].apply(embarkedRecode)\n",
    "titanicTrim.head()"
   ]
  },
  {
   "cell_type": "code",
   "execution_count": 9,
   "id": "4a686fe4-54f9-4a06-9b21-93d1acddab99",
   "metadata": {},
   "outputs": [
    {
     "data": {
      "text/plain": [
       "deck\n",
       "C    51\n",
       "B    43\n",
       "D    31\n",
       "E    30\n",
       "A    12\n",
       "F    11\n",
       "G     4\n",
       "dtype: int64"
      ]
     },
     "execution_count": 9,
     "metadata": {},
     "output_type": "execute_result"
    }
   ],
   "source": [
    "titanicTrim.value_counts(\"deck\")"
   ]
  },
  {
   "cell_type": "code",
   "execution_count": 10,
   "id": "7c170002-a4d5-4dcb-ba12-d84eb1dfe32a",
   "metadata": {},
   "outputs": [
    {
     "data": {
      "text/html": [
       "<div>\n",
       "<style scoped>\n",
       "    .dataframe tbody tr th:only-of-type {\n",
       "        vertical-align: middle;\n",
       "    }\n",
       "\n",
       "    .dataframe tbody tr th {\n",
       "        vertical-align: top;\n",
       "    }\n",
       "\n",
       "    .dataframe thead th {\n",
       "        text-align: right;\n",
       "    }\n",
       "</style>\n",
       "<table border=\"1\" class=\"dataframe\">\n",
       "  <thead>\n",
       "    <tr style=\"text-align: right;\">\n",
       "      <th></th>\n",
       "      <th>survived</th>\n",
       "      <th>pclass</th>\n",
       "      <th>sex</th>\n",
       "      <th>age</th>\n",
       "      <th>fare</th>\n",
       "      <th>embarked</th>\n",
       "      <th>deck</th>\n",
       "      <th>alone</th>\n",
       "      <th>sexR</th>\n",
       "      <th>embarkedR</th>\n",
       "      <th>deckR</th>\n",
       "    </tr>\n",
       "  </thead>\n",
       "  <tbody>\n",
       "    <tr>\n",
       "      <th>1</th>\n",
       "      <td>1</td>\n",
       "      <td>1</td>\n",
       "      <td>female</td>\n",
       "      <td>38.0</td>\n",
       "      <td>71.2833</td>\n",
       "      <td>C</td>\n",
       "      <td>C</td>\n",
       "      <td>False</td>\n",
       "      <td>1</td>\n",
       "      <td>0</td>\n",
       "      <td>0</td>\n",
       "    </tr>\n",
       "    <tr>\n",
       "      <th>3</th>\n",
       "      <td>1</td>\n",
       "      <td>1</td>\n",
       "      <td>female</td>\n",
       "      <td>35.0</td>\n",
       "      <td>53.1000</td>\n",
       "      <td>S</td>\n",
       "      <td>C</td>\n",
       "      <td>False</td>\n",
       "      <td>1</td>\n",
       "      <td>1</td>\n",
       "      <td>0</td>\n",
       "    </tr>\n",
       "    <tr>\n",
       "      <th>6</th>\n",
       "      <td>0</td>\n",
       "      <td>1</td>\n",
       "      <td>male</td>\n",
       "      <td>54.0</td>\n",
       "      <td>51.8625</td>\n",
       "      <td>S</td>\n",
       "      <td>E</td>\n",
       "      <td>True</td>\n",
       "      <td>0</td>\n",
       "      <td>1</td>\n",
       "      <td>3</td>\n",
       "    </tr>\n",
       "    <tr>\n",
       "      <th>10</th>\n",
       "      <td>1</td>\n",
       "      <td>3</td>\n",
       "      <td>female</td>\n",
       "      <td>4.0</td>\n",
       "      <td>16.7000</td>\n",
       "      <td>S</td>\n",
       "      <td>G</td>\n",
       "      <td>False</td>\n",
       "      <td>1</td>\n",
       "      <td>1</td>\n",
       "      <td>6</td>\n",
       "    </tr>\n",
       "    <tr>\n",
       "      <th>11</th>\n",
       "      <td>1</td>\n",
       "      <td>1</td>\n",
       "      <td>female</td>\n",
       "      <td>58.0</td>\n",
       "      <td>26.5500</td>\n",
       "      <td>S</td>\n",
       "      <td>C</td>\n",
       "      <td>True</td>\n",
       "      <td>1</td>\n",
       "      <td>1</td>\n",
       "      <td>0</td>\n",
       "    </tr>\n",
       "  </tbody>\n",
       "</table>\n",
       "</div>"
      ],
      "text/plain": [
       "    survived  pclass     sex   age     fare embarked deck  alone  sexR  \\\n",
       "1          1       1  female  38.0  71.2833        C    C  False     1   \n",
       "3          1       1  female  35.0  53.1000        S    C  False     1   \n",
       "6          0       1    male  54.0  51.8625        S    E   True     0   \n",
       "10         1       3  female   4.0  16.7000        S    G  False     1   \n",
       "11         1       1  female  58.0  26.5500        S    C   True     1   \n",
       "\n",
       "    embarkedR deckR  \n",
       "1           0     0  \n",
       "3           1     0  \n",
       "6           1     3  \n",
       "10          1     6  \n",
       "11          1     0  "
      ]
     },
     "execution_count": 10,
     "metadata": {},
     "output_type": "execute_result"
    }
   ],
   "source": [
    "def deckRecode (series):\n",
    "    if series == \"C\":\n",
    "        return 0\n",
    "    if series == \"B\":\n",
    "        return 1\n",
    "    if series == \"D\":\n",
    "        return 2\n",
    "    if series == \"E\":\n",
    "        return 3\n",
    "    if series == \"A\":\n",
    "        return 4\n",
    "    if series == \"F\":\n",
    "        return 5\n",
    "    if series == \"G\":\n",
    "        return 6\n",
    "\n",
    "titanicTrim[\"deckR\"] = titanicTrim[\"deck\"].apply(deckRecode)\n",
    "titanicTrim.head()"
   ]
  },
  {
   "cell_type": "code",
   "execution_count": 11,
   "id": "41ad28a1-2269-4ef0-a911-2734fb8f6b40",
   "metadata": {},
   "outputs": [
    {
     "data": {
      "text/html": [
       "<div>\n",
       "<style scoped>\n",
       "    .dataframe tbody tr th:only-of-type {\n",
       "        vertical-align: middle;\n",
       "    }\n",
       "\n",
       "    .dataframe tbody tr th {\n",
       "        vertical-align: top;\n",
       "    }\n",
       "\n",
       "    .dataframe thead th {\n",
       "        text-align: right;\n",
       "    }\n",
       "</style>\n",
       "<table border=\"1\" class=\"dataframe\">\n",
       "  <thead>\n",
       "    <tr style=\"text-align: right;\">\n",
       "      <th></th>\n",
       "      <th>survived</th>\n",
       "      <th>pclass</th>\n",
       "      <th>age</th>\n",
       "      <th>fare</th>\n",
       "      <th>alone</th>\n",
       "      <th>sexR</th>\n",
       "      <th>embarkedR</th>\n",
       "      <th>deckR</th>\n",
       "    </tr>\n",
       "  </thead>\n",
       "  <tbody>\n",
       "    <tr>\n",
       "      <th>1</th>\n",
       "      <td>1</td>\n",
       "      <td>1</td>\n",
       "      <td>38.0</td>\n",
       "      <td>71.2833</td>\n",
       "      <td>False</td>\n",
       "      <td>1</td>\n",
       "      <td>0</td>\n",
       "      <td>0</td>\n",
       "    </tr>\n",
       "    <tr>\n",
       "      <th>3</th>\n",
       "      <td>1</td>\n",
       "      <td>1</td>\n",
       "      <td>35.0</td>\n",
       "      <td>53.1000</td>\n",
       "      <td>False</td>\n",
       "      <td>1</td>\n",
       "      <td>1</td>\n",
       "      <td>0</td>\n",
       "    </tr>\n",
       "    <tr>\n",
       "      <th>6</th>\n",
       "      <td>0</td>\n",
       "      <td>1</td>\n",
       "      <td>54.0</td>\n",
       "      <td>51.8625</td>\n",
       "      <td>True</td>\n",
       "      <td>0</td>\n",
       "      <td>1</td>\n",
       "      <td>3</td>\n",
       "    </tr>\n",
       "    <tr>\n",
       "      <th>10</th>\n",
       "      <td>1</td>\n",
       "      <td>3</td>\n",
       "      <td>4.0</td>\n",
       "      <td>16.7000</td>\n",
       "      <td>False</td>\n",
       "      <td>1</td>\n",
       "      <td>1</td>\n",
       "      <td>6</td>\n",
       "    </tr>\n",
       "    <tr>\n",
       "      <th>11</th>\n",
       "      <td>1</td>\n",
       "      <td>1</td>\n",
       "      <td>58.0</td>\n",
       "      <td>26.5500</td>\n",
       "      <td>True</td>\n",
       "      <td>1</td>\n",
       "      <td>1</td>\n",
       "      <td>0</td>\n",
       "    </tr>\n",
       "  </tbody>\n",
       "</table>\n",
       "</div>"
      ],
      "text/plain": [
       "    survived  pclass   age     fare  alone  sexR  embarkedR deckR\n",
       "1          1       1  38.0  71.2833  False     1          0     0\n",
       "3          1       1  35.0  53.1000  False     1          1     0\n",
       "6          0       1  54.0  51.8625   True     0          1     3\n",
       "10         1       3   4.0  16.7000  False     1          1     6\n",
       "11         1       1  58.0  26.5500   True     1          1     0"
      ]
     },
     "execution_count": 11,
     "metadata": {},
     "output_type": "execute_result"
    }
   ],
   "source": [
    "titanicTrimmed = titanicTrim.drop([\"sex\", \"embarked\", \"deck\"], axis = 1)\n",
    "titanicTrimmed.head()"
   ]
  },
  {
   "cell_type": "code",
   "execution_count": 12,
   "id": "bdeb0c1b-6e19-48c5-a307-4b3e2fcb104a",
   "metadata": {},
   "outputs": [
    {
     "data": {
      "text/html": [
       "<div>\n",
       "<style scoped>\n",
       "    .dataframe tbody tr th:only-of-type {\n",
       "        vertical-align: middle;\n",
       "    }\n",
       "\n",
       "    .dataframe tbody tr th {\n",
       "        vertical-align: top;\n",
       "    }\n",
       "\n",
       "    .dataframe thead th {\n",
       "        text-align: right;\n",
       "    }\n",
       "</style>\n",
       "<table border=\"1\" class=\"dataframe\">\n",
       "  <thead>\n",
       "    <tr style=\"text-align: right;\">\n",
       "      <th></th>\n",
       "      <th>survived</th>\n",
       "      <th>pclass</th>\n",
       "      <th>age</th>\n",
       "      <th>fare</th>\n",
       "      <th>alone</th>\n",
       "      <th>sexR</th>\n",
       "      <th>embarkedR</th>\n",
       "      <th>deckR</th>\n",
       "    </tr>\n",
       "  </thead>\n",
       "  <tbody>\n",
       "    <tr>\n",
       "      <th>1</th>\n",
       "      <td>Survived</td>\n",
       "      <td>1</td>\n",
       "      <td>38.0</td>\n",
       "      <td>71.2833</td>\n",
       "      <td>False</td>\n",
       "      <td>1</td>\n",
       "      <td>0</td>\n",
       "      <td>0</td>\n",
       "    </tr>\n",
       "    <tr>\n",
       "      <th>3</th>\n",
       "      <td>Survived</td>\n",
       "      <td>1</td>\n",
       "      <td>35.0</td>\n",
       "      <td>53.1000</td>\n",
       "      <td>False</td>\n",
       "      <td>1</td>\n",
       "      <td>1</td>\n",
       "      <td>0</td>\n",
       "    </tr>\n",
       "    <tr>\n",
       "      <th>6</th>\n",
       "      <td>Died</td>\n",
       "      <td>1</td>\n",
       "      <td>54.0</td>\n",
       "      <td>51.8625</td>\n",
       "      <td>True</td>\n",
       "      <td>0</td>\n",
       "      <td>1</td>\n",
       "      <td>3</td>\n",
       "    </tr>\n",
       "    <tr>\n",
       "      <th>10</th>\n",
       "      <td>Survived</td>\n",
       "      <td>3</td>\n",
       "      <td>4.0</td>\n",
       "      <td>16.7000</td>\n",
       "      <td>False</td>\n",
       "      <td>1</td>\n",
       "      <td>1</td>\n",
       "      <td>6</td>\n",
       "    </tr>\n",
       "    <tr>\n",
       "      <th>11</th>\n",
       "      <td>Survived</td>\n",
       "      <td>1</td>\n",
       "      <td>58.0</td>\n",
       "      <td>26.5500</td>\n",
       "      <td>True</td>\n",
       "      <td>1</td>\n",
       "      <td>1</td>\n",
       "      <td>0</td>\n",
       "    </tr>\n",
       "  </tbody>\n",
       "</table>\n",
       "</div>"
      ],
      "text/plain": [
       "    survived  pclass   age     fare  alone  sexR  embarkedR deckR\n",
       "1   Survived       1  38.0  71.2833  False     1          0     0\n",
       "3   Survived       1  35.0  53.1000  False     1          1     0\n",
       "6       Died       1  54.0  51.8625   True     0          1     3\n",
       "10  Survived       3   4.0  16.7000  False     1          1     6\n",
       "11  Survived       1  58.0  26.5500   True     1          1     0"
      ]
     },
     "execution_count": 12,
     "metadata": {},
     "output_type": "execute_result"
    }
   ],
   "source": [
    "def survival (series):\n",
    "    if series == 0:\n",
    "        return \"Died\"\n",
    "    if series == 1:\n",
    "        return \"Survived\"\n",
    "\n",
    "titanicTrimmed[\"survived\"] = titanicTrim[\"survived\"].apply(survival)\n",
    "titanicTrimmed.head()"
   ]
  },
  {
   "cell_type": "code",
   "execution_count": 33,
   "id": "75303ae0-608e-4631-8c9a-317f15de4c7f",
   "metadata": {},
   "outputs": [],
   "source": [
    "#recode into x and y variables\n",
    "y = titanicTrimmed.survived\n",
    "x = titanicTrimmed.drop(\"survived\", axis = 1)"
   ]
  },
  {
   "cell_type": "code",
   "execution_count": 34,
   "id": "c636fb5f-5176-497c-af0f-6c2db6c6890f",
   "metadata": {},
   "outputs": [],
   "source": [
    "#Train Test Split\n",
    "x_train, x_test, y_train, y_test = train_test_split(x,y, test_size=0.4)"
   ]
  },
  {
   "cell_type": "code",
   "execution_count": 35,
   "id": "760d1f03-809b-4544-bcbf-e14c08f6c255",
   "metadata": {},
   "outputs": [
    {
     "data": {
      "text/plain": [
       "DecisionTreeClassifier()"
      ]
     },
     "execution_count": 35,
     "metadata": {},
     "output_type": "execute_result"
    }
   ],
   "source": [
    "#Create decision tree\n",
    "decisionTree = DecisionTreeClassifier()\n",
    "decisionTree.fit(x_train, y_train)"
   ]
  },
  {
   "cell_type": "code",
   "execution_count": 36,
   "id": "f24dcedd-b7f0-4a5b-bbd7-023cc9cf1207",
   "metadata": {},
   "outputs": [],
   "source": [
    "#Assess the Model\n",
    "##Predictions\n",
    "treePredictions = decisionTree.predict(x_test)"
   ]
  },
  {
   "cell_type": "code",
   "execution_count": 37,
   "id": "53a1e04d-1f34-447c-b9ad-38ecdbcabd4c",
   "metadata": {},
   "outputs": [
    {
     "name": "stdout",
     "output_type": "stream",
     "text": [
      "[[11 12]\n",
      " [ 9 41]]\n"
     ]
    }
   ],
   "source": [
    "print(confusion_matrix(y_test, treePredictions))"
   ]
  },
  {
   "cell_type": "code",
   "execution_count": 38,
   "id": "f230ba17-81ca-41ea-979e-1d1fc1fe47dd",
   "metadata": {},
   "outputs": [
    {
     "name": "stdout",
     "output_type": "stream",
     "text": [
      "              precision    recall  f1-score   support\n",
      "\n",
      "        Died       0.55      0.48      0.51        23\n",
      "    Survived       0.77      0.82      0.80        50\n",
      "\n",
      "    accuracy                           0.71        73\n",
      "   macro avg       0.66      0.65      0.65        73\n",
      "weighted avg       0.70      0.71      0.71        73\n",
      "\n"
     ]
    }
   ],
   "source": [
    "print(classification_report(y_test, treePredictions))"
   ]
  },
  {
   "cell_type": "markdown",
   "id": "0fdbc2cd-8a08-4c75-966a-8177f374a657",
   "metadata": {},
   "source": [
    "## Decision Trees Conclusions\n",
    "\n",
    "**Confusion Matrix:**\n",
    " - predicted 15 deaths when there were actually 20\n",
    " - predicted 43 survived when there were actually 53\n",
    "\n",
    "\n",
    "**Classification Report:**\n",
    " - Our model was only 81% accurate at predicting survivals vs. 75% for deaths\n",
    " - Our model has a weighted average of 79% which is still good but I think can be improved"
   ]
  },
  {
   "cell_type": "markdown",
   "id": "12a8a18a-a98c-42aa-9bb1-2c1964e8d79e",
   "metadata": {},
   "source": [
    "# __________________________________________________________________"
   ]
  },
  {
   "cell_type": "markdown",
   "id": "281813c8-6f8e-4b5e-9671-497935bad268",
   "metadata": {},
   "source": [
    "## **Part 2:** Create a random forest model of the Titanic dataset that predicts survival\n",
    "\n",
    "**Tasks:**\n",
    "1. Import Packages - *completed above*\n",
    "2. Load in Data - *completed above*\n",
    "3. Data Wrangling - *completed above*\n",
    "4. Train Test Split - *completed above*\n",
    "5. Initial Random Forest Model\n",
    "6. Evaluate Model Fit\n",
    "7. Hyperparameter Tuning\n",
    "8. Re-run Model\n",
    "9. Run Feature Importance"
   ]
  },
  {
   "cell_type": "code",
   "execution_count": 19,
   "id": "a6628c96-e1cd-474a-805c-4c7f1a2df5d3",
   "metadata": {},
   "outputs": [
    {
     "data": {
      "text/plain": [
       "RandomForestClassifier(n_estimators=500)"
      ]
     },
     "execution_count": 19,
     "metadata": {},
     "output_type": "execute_result"
    }
   ],
   "source": [
    "#Create initial forest model\n",
    "forest = RandomForestClassifier(n_estimators=500)\n",
    "forest.fit(x_train, y_train)"
   ]
  },
  {
   "cell_type": "code",
   "execution_count": 20,
   "id": "d6d0545a-e417-4319-a4af-d9b8f1ff6fca",
   "metadata": {},
   "outputs": [
    {
     "name": "stdout",
     "output_type": "stream",
     "text": [
      "[[15  9]\n",
      " [12 37]]\n",
      "              precision    recall  f1-score   support\n",
      "\n",
      "        Died       0.56      0.62      0.59        24\n",
      "    Survived       0.80      0.76      0.78        49\n",
      "\n",
      "    accuracy                           0.71        73\n",
      "   macro avg       0.68      0.69      0.68        73\n",
      "weighted avg       0.72      0.71      0.72        73\n",
      "\n"
     ]
    }
   ],
   "source": [
    "#Evaluate Model Fit\n",
    "##Predictions\n",
    "forestPredictions = forest.predict(x_test)\n",
    "print(confusion_matrix(y_test, forestPredictions))\n",
    "print(classification_report(y_test, forestPredictions))"
   ]
  },
  {
   "cell_type": "markdown",
   "id": "6adec6d8-5d74-40f1-b267-63cbfcf0639a",
   "metadata": {},
   "source": [
    "# Our model is 72% accurate for our weighted average\n",
    "## - Let's run a hyperparameter tuning to try to find a better model"
   ]
  },
  {
   "cell_type": "code",
   "execution_count": 21,
   "id": "8de9ee28-9379-4ddf-aa40-a4ec34b71f46",
   "metadata": {},
   "outputs": [
    {
     "name": "stdout",
     "output_type": "stream",
     "text": [
      "1 : 0.5753424657534246\n",
      "4 : 0.6438356164383562\n",
      "5 : 0.6712328767123288\n",
      "8 : 0.6575342465753424\n",
      "10 : 0.6712328767123288\n",
      "20 : 0.7123287671232876\n",
      "50 : 0.6986301369863014\n",
      "75 : 0.684931506849315\n",
      "100 : 0.6986301369863014\n",
      "250 : 0.7123287671232876\n",
      "500 : 0.7123287671232876\n"
     ]
    }
   ],
   "source": [
    "#Evaluate Number of Estimators\n",
    "n_estimators_array = [1, 4, 5, 8, 10, 20, 50, 75, 100, 250, 500]\n",
    "results = []\n",
    "for n in n_estimators_array:\n",
    "    forest = RandomForestClassifier(n_estimators=n, random_state=76)\n",
    "    forest.fit(x_train, y_train)\n",
    "    result = accuracy_score(y_test, forest.predict(x_test))\n",
    "    results.append(result) \n",
    "    print(n, ':', result)"
   ]
  },
  {
   "cell_type": "code",
   "execution_count": 22,
   "id": "6571536c-ef2d-486f-bb0f-4e3c659b29c6",
   "metadata": {},
   "outputs": [
    {
     "name": "stdout",
     "output_type": "stream",
     "text": [
      "{'max_features': ['auto', None, 'log2'], 'max_depth': [10, 20, 30, 40, 50, 60, 70, 80, 90, None], 'min_samples_leaf': [1, 2, 4]}\n"
     ]
    }
   ],
   "source": [
    "#250 numerators is our best fit\n",
    "#Evaluate other features, depth & sample leafs\n",
    "# Number of features to consider at every split\n",
    "max_features = ['auto', None, 'log2']\n",
    "# Maximum number of levels in tree\n",
    "max_depth = [10, 20, 30, 40, 50, 60, 70, 80, 90, None]\n",
    "# Minimum number of samples required at each leaf node\n",
    "min_samples_leaf = [1, 2, 4]\n",
    "# Method of selecting samples for training each tree\n",
    "random_grid = {'max_features': max_features,\n",
    "               'max_depth': max_depth,\n",
    "               'min_samples_leaf': min_samples_leaf}\n",
    "print(random_grid)"
   ]
  },
  {
   "cell_type": "code",
   "execution_count": 27,
   "id": "8e07559d-ef2a-40ac-914a-15d7f717174a",
   "metadata": {},
   "outputs": [
    {
     "data": {
      "text/plain": [
       "RandomizedSearchCV(cv=3, estimator=RandomForestClassifier(n_estimators=20),\n",
       "                   n_iter=90,\n",
       "                   param_distributions={'max_depth': [10, 20, 30, 40, 50, 60,\n",
       "                                                      70, 80, 90, None],\n",
       "                                        'max_features': ['auto', None, 'log2'],\n",
       "                                        'min_samples_leaf': [1, 2, 4]})"
      ]
     },
     "execution_count": 27,
     "metadata": {},
     "output_type": "execute_result"
    }
   ],
   "source": [
    "rf = RandomForestClassifier(n_estimators=20)\n",
    "rf_random = RandomizedSearchCV(estimator = rf, param_distributions = random_grid, n_iter = 90, cv = 3)\n",
    "rf_random.fit(x_train, y_train)"
   ]
  },
  {
   "cell_type": "code",
   "execution_count": 28,
   "id": "4fd68d6a-20b2-4844-8836-bafd3d5d4a77",
   "metadata": {},
   "outputs": [
    {
     "data": {
      "text/plain": [
       "{'min_samples_leaf': 2, 'max_features': None, 'max_depth': 40}"
      ]
     },
     "execution_count": 28,
     "metadata": {},
     "output_type": "execute_result"
    }
   ],
   "source": [
    "rf_random.best_params_"
   ]
  },
  {
   "cell_type": "code",
   "execution_count": 31,
   "id": "efb313bf-25cc-4457-b04b-f82fe1e3db01",
   "metadata": {},
   "outputs": [
    {
     "data": {
      "text/plain": [
       "RandomForestClassifier(max_depth=40, max_features=None, min_samples_leaf=2,\n",
       "                       n_estimators=20)"
      ]
     },
     "execution_count": 31,
     "metadata": {},
     "output_type": "execute_result"
    }
   ],
   "source": [
    "#Re-run Forest with new parameters\n",
    "forest = RandomForestClassifier(n_estimators=20, min_samples_leaf=2, max_features=None, max_depth=40)\n",
    "forest.fit(x_train, y_train)"
   ]
  },
  {
   "cell_type": "code",
   "execution_count": 32,
   "id": "1af7fdc6-804a-44c1-bc23-d7cc9923c249",
   "metadata": {},
   "outputs": [
    {
     "name": "stdout",
     "output_type": "stream",
     "text": [
      "[[15  9]\n",
      " [13 36]]\n",
      "              precision    recall  f1-score   support\n",
      "\n",
      "        Died       0.54      0.62      0.58        24\n",
      "    Survived       0.80      0.73      0.77        49\n",
      "\n",
      "    accuracy                           0.70        73\n",
      "   macro avg       0.67      0.68      0.67        73\n",
      "weighted avg       0.71      0.70      0.70        73\n",
      "\n"
     ]
    }
   ],
   "source": [
    "forestPredictions = forest.predict(x_test)\n",
    "print(confusion_matrix(y_test, forestPredictions))\n",
    "print(classification_report(y_test, forestPredictions))"
   ]
  },
  {
   "cell_type": "markdown",
   "id": "dfb26d4c-4791-4be5-8a53-794d22bf4f00",
   "metadata": {},
   "source": [
    "# __________________________________________________________________"
   ]
  },
  {
   "cell_type": "markdown",
   "id": "fcda26ef-3a9c-4d96-924a-52548c8ef288",
   "metadata": {},
   "source": [
    "# Final Results\n",
    "\n",
    "**Conclusions:**\n",
    "\n",
    "1. Our 1st forest model without tuned hyperparameters is a better fit than the 2nd model\n",
    "    - 500 was a good numerator for our model fit.\n",
    "    - Survival predictions are 80% accurate while death predictions are 56% accurate\n",
    "    - Our overall weighted average accuracy is 72%\n",
    "                                           \n",
    "                                           \n",
    "2. Our Random forest model is slightly better than the original decision tree\n",
    "    - Decision tree = 70% accurate (weighted avarage)\n",
    "    - Random forest = 72% accurate (weighted average)\n",
    "    \n",
    "**3. For this dataset I would recommend using the random forest tree model for best survival predictions**"
   ]
  },
  {
   "cell_type": "markdown",
   "id": "f208b3f0-034e-4337-a91e-683ec826e721",
   "metadata": {},
   "source": [
    "# ________________________________________________\n",
    "### **For fun:** \n",
    "#### Let's see which variables have the biggest affect on our predictions"
   ]
  },
  {
   "cell_type": "code",
   "execution_count": 40,
   "id": "5ce859c7-4e29-46d0-adf2-bf8322ebc1b3",
   "metadata": {},
   "outputs": [
    {
     "name": "stdout",
     "output_type": "stream",
     "text": [
      "sexR         0.399424\n",
      "fare         0.221672\n",
      "age          0.182160\n",
      "deckR        0.134043\n",
      "embarkedR    0.034361\n",
      "alone        0.017029\n",
      "pclass       0.011312\n",
      "dtype: float64\n"
     ]
    }
   ],
   "source": [
    "#Feature Importance - just to see which variables have more impact\n",
    "feature_importances = pd.Series(forest.feature_importances_, index=x.columns)\n",
    "feature_importances\n",
    "feature_importances.sort_values(inplace=True, ascending=False)\n",
    "print(feature_importances)"
   ]
  },
  {
   "cell_type": "code",
   "execution_count": 41,
   "id": "443d5a41-2bce-4fc9-aa3e-3d88d474deea",
   "metadata": {},
   "outputs": [
    {
     "data": {
      "text/plain": [
       "<AxesSubplot:>"
      ]
     },
     "execution_count": 41,
     "metadata": {},
     "output_type": "execute_result"
    },
    {
     "data": {
      "image/png": "[encoded data removed]",
      "text/plain": [
       "<Figure size 504x432 with 1 Axes>"
      ]
     },
     "metadata": {
      "needs_background": "light"
     },
     "output_type": "display_data"
    }
   ],
   "source": [
    "feature_importances.plot(kind='barh', figsize=(7,6))"
   ]
  },
  {
   "cell_type": "markdown",
   "id": "ba5f2693-db09-4fce-bb45-9e04b7f3d279",
   "metadata": {},
   "source": [
    "## Most Important Features\n",
    "1. Sex - plays the biggest role\n",
    "2. Fare\n",
    "3. Age\n",
    "4. Deck\n",
    "\n",
    "**Conclusion:** if you want to know who would survive, looking at sex, fare, age and which deck they were on would give you a good pridctor into whether they would survive."
   ]
  },
  {
   "cell_type": "code",
   "execution_count": null,
   "id": "74caa1c8-3ecb-4b2a-93be-e37ecf0af3b0",
   "metadata": {},
   "outputs": [],
   "source": []
  }
 ],
 "metadata": {
  "kernelspec": {
   "display_name": "Python 3 (ipykernel)",
   "language": "python",
   "name": "python3"
  },
  "language_info": {
   "codemirror_mode": {
    "name": "ipython",
    "version": 3
   },
   "file_extension": ".py",
   "mimetype": "text/x-python",
   "name": "python",
   "nbconvert_exporter": "python",
   "pygments_lexer": "ipython3",
   "version": "3.9.12"
  }
 },
 "nbformat": 4,
 "nbformat_minor": 5
}
